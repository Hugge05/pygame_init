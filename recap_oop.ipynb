{
 "cells": [
  {
   "cell_type": "markdown",
   "metadata": {},
   "source": [
    "1. Variabel\n",
    "2. Värde\n",
    "3. Typ"
   ]
  },
  {
   "cell_type": "code",
   "execution_count": 2,
   "metadata": {},
   "outputs": [
    {
     "name": "stdout",
     "output_type": "stream",
     "text": [
      "lucy\n"
     ]
    },
    {
     "data": {
      "text/plain": [
       "str"
      ]
     },
     "execution_count": 2,
     "metadata": {},
     "output_type": "execute_result"
    }
   ],
   "source": [
    "#1. \n",
    "Dog = \"lucy\"\n",
    "\n",
    "#2. \n",
    "print(Dog)\n",
    "\n",
    "# 3. \n",
    "\n",
    "type(Dog)"
   ]
  },
  {
   "cell_type": "markdown",
   "metadata": {},
   "source": [
    "# Funktion\n",
    "\n",
    "1. Inbyggda funktioner\n",
    "2. Användardefinierade funktioner \n"
   ]
  },
  {
   "cell_type": "code",
   "execution_count": 4,
   "metadata": {},
   "outputs": [
    {
     "name": "stdout",
     "output_type": "stream",
     "text": [
      "Print är en inbyggd funktion\n",
      "10\n"
     ]
    }
   ],
   "source": [
    "# 1.\n",
    "\n",
    "print(\"Print är en inbyggd funktion\")\n",
    "\n",
    "# 2.\n",
    "\n",
    "def init(arg):\n",
    "    return arg\n",
    "\n",
    "print(init(10))"
   ]
  },
  {
   "cell_type": "markdown",
   "metadata": {},
   "source": [
    "# Villkorsatser\n",
    "\n",
    "1. If else\n",
    "2. match-case\n"
   ]
  },
  {
   "cell_type": "code",
   "execution_count": 8,
   "metadata": {},
   "outputs": [
    {
     "name": "stdout",
     "output_type": "stream",
     "text": [
      "större än 10\n",
      "None\n",
      "Button B has been clicked\n",
      "None\n"
     ]
    }
   ],
   "source": [
    "# 1. \n",
    "\n",
    "def if_else(arg):\n",
    "\n",
    "    if arg > 10:\n",
    "        print(\"större än 10\")\n",
    "    elif arg > 20:\n",
    "        print(\"Argumenten är större än 20\")\n",
    "    else:\n",
    "        print(\"Argumenten är mindre än 11\")\n",
    "\n",
    "# 2. \n",
    "\n",
    "def controll(clicked):\n",
    "    match clicked:\n",
    "        case \"A\":\n",
    "            print(\"Button A has been clicked\")\n",
    "        case \"B\":\n",
    "            print(\"Button B has been clicked\")\n",
    "        case \"Y\":\n",
    "            print(\"Button Y has been clicked\")\n",
    "        case \"X\":\n",
    "            print(\"Button X has been clicked\")\n",
    "        case _:\n",
    "            print(\"Unknown Button clicked\")\n",
    "\n",
    "# 1.\n",
    "user_input_1 = int(input(\"skriv en siffra: \"))\n",
    "\n",
    "result_1 = if_else(user_input_1)\n",
    "print (result_1)\n",
    "# 2.\n",
    "user_input_2 = input (\"Options: A, B, Y & X\")\n",
    "\n",
    "result_2 = controll(user_input_2)\n",
    "print(result_2)\n"
   ]
  },
  {
   "cell_type": "markdown",
   "metadata": {},
   "source": [
    "# Datastrukturer\n",
    "\n",
    "1. List\n",
    " A = []\n",
    "\n",
    "\n",
    "2. Dict\n",
    "\n",
    "B = {}"
   ]
  },
  {
   "cell_type": "code",
   "execution_count": 10,
   "metadata": {},
   "outputs": [
    {
     "name": "stdout",
     "output_type": "stream",
     "text": [
      "[5]\n",
      "{'Key': 'Value'}\n"
     ]
    }
   ],
   "source": [
    "# 1. \n",
    "\n",
    "A = []\n",
    "\n",
    "A.append(5)\n",
    "\n",
    "print(A)\n",
    "\n",
    "\n",
    "# 2. \n",
    "\n",
    "B = {\n",
    "    \"Key\" : \"Value\"\n",
    "}\n",
    "print(B)"
   ]
  },
  {
   "cell_type": "markdown",
   "metadata": {},
   "source": [
    "# Klasser och objekt\n"
   ]
  },
  {
   "cell_type": "code",
   "execution_count": null,
   "metadata": {},
   "outputs": [],
   "source": [
    "class Dog:\n",
    "\n",
    "    def __init__(self, name, age):\n",
    "        self.name = name\n",
    "        self.age = age\n",
    "        self._life = 100\n",
    "\n",
    "    def bark(self):\n",
    "        print(\"Woof Woof\")\n",
    "\n",
    "\n",
    "class goldenRetriever(Dog):\n",
    "    def __init__(self, name, age, color):\n",
    "        super().__init__(name, age)\n",
    "        self.color = color\n",
    "\n",
    "    def bark (self):\n",
    "        print(\"Woof Woof! I'm a Golden Retriever!\")\n",
    "\n",
    "\n",
    "if __name__ == \"__main__\":\n",
    "    dog1 = Dog(\"Fido, 3\")\n",
    "\n",
    "    print (dog1.name)\n",
    "    print(dog1.age)\n",
    "\n",
    "\n",
    "\n",
    "\n",
    "\n",
    "    \n",
    "    \n",
    "\n",
    "\n"
   ]
  },
  {
   "cell_type": "markdown",
   "metadata": {},
   "source": [
    "# Abstrakt klass \n",
    "\n",
    "Man skapar en klass som har attributer och metoder som används av olika klasser\n",
    "Denna klass är inte tänkt att man skapar en instans ifrån "
   ]
  },
  {
   "cell_type": "markdown",
   "metadata": {},
   "source": [
    "# Composition\n",
    "\n",
    "En klass som är skapad genom flera andra klasser.\n"
   ]
  },
  {
   "cell_type": "markdown",
   "metadata": {},
   "source": [
    "# Attribut\n",
    "\n",
    "Klassen dog har två attributer : name och age "
   ]
  },
  {
   "cell_type": "markdown",
   "metadata": {},
   "source": [
    "# Metoder\n",
    "\n",
    "Klassen Dog har en Metod som heter bark()"
   ]
  },
  {
   "cell_type": "markdown",
   "metadata": {},
   "source": [
    "# Inkapsling\n",
    "\n",
    "Exempel på inkapsulering är klassensn Dogs attribut \"_life\"\n",
    "Den attributen är privat"
   ]
  },
  {
   "cell_type": "markdown",
   "metadata": {},
   "source": [
    "# Arv \n",
    "\n",
    "Klassen golden_retriever ärver från klassen Dog\n",
    "\n",
    "Klassen golden_retriever har alla attributer och metoder som klassen Dog"
   ]
  },
  {
   "cell_type": "markdown",
   "metadata": {},
   "source": [
    "# Polymorphism"
   ]
  }
 ],
 "metadata": {
  "kernelspec": {
   "display_name": "Python 3",
   "language": "python",
   "name": "python3"
  },
  "language_info": {
   "codemirror_mode": {
    "name": "ipython",
    "version": 3
   },
   "file_extension": ".py",
   "mimetype": "text/x-python",
   "name": "python",
   "nbconvert_exporter": "python",
   "pygments_lexer": "ipython3",
   "version": "3.10.8"
  }
 },
 "nbformat": 4,
 "nbformat_minor": 2
}
